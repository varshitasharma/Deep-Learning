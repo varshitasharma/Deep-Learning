{
  "nbformat": 4,
  "nbformat_minor": 0,
  "metadata": {
    "colab": {
      "name": "AI21MTECH14004_HW5.ipynb",
      "provenance": [],
      "collapsed_sections": []
    },
    "kernelspec": {
      "name": "python3",
      "display_name": "Python 3"
    },
    "language_info": {
      "name": "python"
    }
  },
  "cells": [
    {
      "cell_type": "code",
      "source": [
        "import matplotlib.pyplot as plt\n",
        "import matplotlib.image as mpimg\n",
        "import requests\n",
        "import numpy as np\n",
        "import math\n",
        "import random as ran\n",
        "import torch\n",
        "import torch.nn as nn \n",
        "import torch.optim as optim\n",
        "import torchvision\n",
        "import torchvision.transforms as transforms\n",
        "import torch.nn.functional as F\n",
        "import matplotlib.pyplot as plt \n",
        "import sklearn.metrics\n",
        "import random"
      ],
      "metadata": {
        "id": "GqFfwMTdgMMy"
      },
      "execution_count": null,
      "outputs": []
    },
    {
      "cell_type": "code",
      "source": [
        "train_dataset = torchvision.datasets.MNIST(root='./data', train=True, transform=transforms.ToTensor(),   download=True)\n",
        "train_loader = torch.utils.data.DataLoader(dataset=train_dataset, batch_size=1,  shuffle=True)\n",
        "examples = iter(train_loader)\n",
        "data,targets = examples.next()"
      ],
      "metadata": {
        "id": "HEuxq4r4hcGk"
      },
      "execution_count": null,
      "outputs": []
    },
    {
      "cell_type": "code",
      "source": [
        "test_dataset = torchvision.datasets.MNIST(root='./data', train=False, transform=transforms.ToTensor(),download=True)"
      ],
      "metadata": {
        "id": "5ndyfsjgRNVp"
      },
      "execution_count": null,
      "outputs": []
    },
    {
      "cell_type": "code",
      "source": [
        "def load(train_d):\n",
        "  data=[]\n",
        "  for i in range(10):\n",
        "    count=0\n",
        "    ind=0\n",
        "    img_lst=[]\n",
        "    while(True):\n",
        "\n",
        "      if train_d[ind][1]==i:\n",
        "        img_lst.append(train_d[ind][0].reshape(1,1,28,28))\n",
        "        count+=1\n",
        "      if count==100:\n",
        "        data.append(img_lst)\n",
        "        break\n",
        "      ind+=1\n",
        "  return data"
      ],
      "metadata": {
        "id": "kynRNu7A7xdx"
      },
      "execution_count": null,
      "outputs": []
    },
    {
      "cell_type": "code",
      "source": [
        "def load_test(test_d):\n",
        "  data=[]\n",
        "  for i in range(10):\n",
        "    count=0\n",
        "    ind=0\n",
        "    img_lst=[]\n",
        "    while(True):\n",
        "      if test_d[ind][1]==i:\n",
        "        img_lst.append(test_d[ind][0].reshape(1,1,28,28))\n",
        "        count+=1\n",
        "      if count==10:\n",
        "        data.append(img_lst)\n",
        "        break\n",
        "      ind+=1\n",
        "  return data"
      ],
      "metadata": {
        "id": "fEzu3KI3QuoX"
      },
      "execution_count": null,
      "outputs": []
    },
    {
      "cell_type": "code",
      "source": [
        "data=load(train_dataset)\n",
        "test=load_test(test_dataset)"
      ],
      "metadata": {
        "id": "2ELbuSjv8k7Q"
      },
      "execution_count": null,
      "outputs": []
    },
    {
      "cell_type": "code",
      "source": [
        "img=data[0][0]\n",
        "t=img.shape[0]\n",
        "img=img.reshape((1,1,img.shape[0],img.shape[0]))\n",
        "print(img.shape)"
      ],
      "metadata": {
        "colab": {
          "base_uri": "https://localhost:8080/"
        },
        "id": "CweXFv01iK1z",
        "outputId": "ff9c0a0a-570c-4c73-8c87-8c1130b3f161"
      },
      "execution_count": null,
      "outputs": [
        {
          "output_type": "stream",
          "name": "stdout",
          "text": [
            "torch.Size([1, 1, 28, 28])\n"
          ]
        }
      ]
    },
    {
      "cell_type": "code",
      "source": [
        "def one_hot_encode(obj):\n",
        "  num=obj\n",
        "  arr_z=np.zeros(10)\n",
        "  arr_z[num]=1\n",
        "  arr_z=torch.tensor(arr_z)\n",
        "  return arr_z"
      ],
      "metadata": {
        "id": "3oeqsmzBqgxr"
      },
      "execution_count": null,
      "outputs": []
    },
    {
      "cell_type": "markdown",
      "source": [
        "# Q 1"
      ],
      "metadata": {
        "id": "jfsjQkLSMyyn"
      }
    },
    {
      "cell_type": "code",
      "execution_count": null,
      "metadata": {
        "id": "DnDyrdRlfdD1"
      },
      "outputs": [],
      "source": [
        "class Net(nn.Module):\n",
        "    def __init__(self):\n",
        "        super().__init__()\n",
        "        self.conv1 = nn.Conv2d(1,4,5, padding=2, stride=1)\n",
        "        self.pool1 = nn.MaxPool2d(2, 2)\n",
        "        self.conv2 = nn.Conv2d(4,4,5, padding=2, stride=1)\n",
        "        self.pool2 = nn.MaxPool2d(2, 2)\n",
        "        self.fc1 = nn.Linear(196, 49)\n",
        "        self.fc2 = nn.Linear(49,10)\n",
        "\n",
        "    def forward(self, x):\n",
        "        x = F.relu(self.conv1(x))\n",
        "        x = self.pool1(x)\n",
        "        x = F.relu(self.conv2(x))\n",
        "        x = self.pool2(x)\n",
        "        x = torch.flatten(x, 1)\n",
        "        x = F.relu(self.fc1(x))\n",
        "        x = F.relu(self.fc2(x))\n",
        "        return x"
      ]
    },
    {
      "cell_type": "code",
      "source": [
        "net = Net()\n",
        "out=net(img)\n",
        "enc_target=one_hot_encode(example_targets[0]).float().reshape(1,10)\n",
        "enc_target.shape"
      ],
      "metadata": {
        "colab": {
          "base_uri": "https://localhost:8080/"
        },
        "id": "nEFvIRMdgh3J",
        "outputId": "668339fe-5ded-4d87-c558-550d570458fe"
      },
      "execution_count": null,
      "outputs": [
        {
          "output_type": "execute_result",
          "data": {
            "text/plain": [
              "torch.Size([1, 10])"
            ]
          },
          "metadata": {},
          "execution_count": 10
        }
      ]
    },
    {
      "cell_type": "code",
      "source": [
        "print(\"Softmax output is \", out)"
      ],
      "metadata": {
        "colab": {
          "base_uri": "https://localhost:8080/"
        },
        "id": "QOlLkXk70H70",
        "outputId": "d4192745-64c6-4ba5-d5e0-e81328756bca"
      },
      "execution_count": null,
      "outputs": [
        {
          "output_type": "stream",
          "name": "stdout",
          "text": [
            "Softmax output is  tensor([[0.0000, 0.0285, 0.0000, 0.1427, 0.0172, 0.0000, 0.0766, 0.0356, 0.0000,\n",
            "         0.0000]], grad_fn=<ReluBackward0>)\n"
          ]
        }
      ]
    },
    {
      "cell_type": "code",
      "source": [
        "cross_entropy_loss = nn.CrossEntropyLoss()\n",
        "output = cross_entropy_loss(out, enc_target)\n",
        "output.backward()\n",
        "print(\"Loss \",output.item())"
      ],
      "metadata": {
        "colab": {
          "base_uri": "https://localhost:8080/"
        },
        "id": "fUQTiCr_leJn",
        "outputId": "0c55c096-90e3-4079-dad0-a4852e9c7a44"
      },
      "execution_count": null,
      "outputs": [
        {
          "output_type": "stream",
          "name": "stdout",
          "text": [
            "Loss  2.333660125732422\n"
          ]
        }
      ]
    },
    {
      "cell_type": "markdown",
      "source": [
        "# Q 2"
      ],
      "metadata": {
        "id": "pwdiK65uMDPY"
      }
    },
    {
      "cell_type": "markdown",
      "source": [
        "## 2a) Vanilla SGD"
      ],
      "metadata": {
        "id": "E8BHwNgtGnMz"
      }
    },
    {
      "cell_type": "code",
      "source": [
        "epochs=15\n",
        "cross_entropy_loss = nn.CrossEntropyLoss()\n",
        "net = Net()\n",
        "sgd_optimizer = optim.SGD(net.parameters(), lr=0.001)\n",
        "loss_lst_plot=[]\n",
        "for _ in range(epochs):\n",
        "  loss_lst=[]\n",
        "\n",
        "  for shuffle_ind in range(10):\n",
        "    random.shuffle(data[shuffle_ind])\n",
        "  for ind1 in range(10):\n",
        "    sgd_optimizer.zero_grad()\n",
        "    for ind2 in range (100):\n",
        "      img=data[ind1][ind2].reshape(1,1,28,28)\n",
        "      out=net(img)\n",
        "      enc_target=one_hot_encode(ind1).float().reshape(1,10)    \n",
        "      cross_loss = cross_entropy_loss(out, enc_target)\n",
        "      \n",
        "      cross_loss.backward()\n",
        "      \n",
        "      loss_lst.append(cross_loss.item())\n",
        "    sgd_optimizer.step()\n",
        "  loss=sum(loss_lst)/len(loss_lst)\n",
        "  loss_lst_plot.append(loss)\n",
        "  print(loss)\n"
      ],
      "metadata": {
        "colab": {
          "base_uri": "https://localhost:8080/"
        },
        "id": "Vdgy0Emf3G9n",
        "outputId": "78331553-fcf5-4c70-c00d-d95f6fbcd1e8"
      },
      "execution_count": null,
      "outputs": [
        {
          "output_type": "stream",
          "name": "stdout",
          "text": [
            "2.3058513717651365\n",
            "2.3026286091804504\n",
            "2.302596381187439\n",
            "2.302589612007141\n",
            "2.3025857136249543\n",
            "2.302583212375641\n",
            "2.3025811629295347\n",
            "2.3025789728164674\n",
            "2.302577027320862\n",
            "2.3025764274597167\n",
            "2.3025744841098787\n",
            "2.3025702283382414\n",
            "2.3025676963329316\n",
            "2.3025699365139007\n",
            "2.302567396879196\n"
          ]
        }
      ]
    },
    {
      "cell_type": "code",
      "source": [
        "plt.plot(loss_lst_plot)\n",
        "plt.title(\"SGD\")\n",
        "plt.show()\n"
      ],
      "metadata": {
        "id": "xDZht_hijsUe"
      },
      "execution_count": null,
      "outputs": []
    },
    {
      "cell_type": "markdown",
      "source": [
        "## 2b) Momentum"
      ],
      "metadata": {
        "id": "D5zlMe2XGsUp"
      }
    },
    {
      "cell_type": "code",
      "source": [
        "epochs=15\n",
        "cross_entropy_loss = nn.CrossEntropyLoss()\n",
        "net = Net()\n",
        "mom_optimizer = optim.SGD(net.parameters(), lr=0.001,momentum=0.9)\n",
        "loss_lst_plot_mom=[]\n",
        "for _ in range(epochs):\n",
        "  loss_lst=[]\n",
        "\n",
        "  for shuffle_ind in range(10):\n",
        "    random.shuffle(data[shuffle_ind])\n",
        "  for ind1 in range(10):\n",
        "    mom_optimizer.zero_grad()\n",
        "    for ind2 in range (100):\n",
        "      img=data[ind1][ind2].reshape(1,1,28,28)\n",
        "      out=net(img)\n",
        "      enc_target=one_hot_encode(ind1).float().reshape(1,10)    \n",
        "      cross_loss = cross_entropy_loss(out, enc_target)\n",
        "      \n",
        "      cross_loss.backward()\n",
        "      \n",
        "      loss_lst.append(cross_loss.item())\n",
        "    mom_optimizer.step()\n",
        "  loss=sum(loss_lst)/len(loss_lst)\n",
        "  loss_lst_plot_mom.append(loss)\n",
        "  print(loss)"
      ],
      "metadata": {
        "id": "a--69oBvGSFg"
      },
      "execution_count": null,
      "outputs": []
    },
    {
      "cell_type": "code",
      "source": [
        "plt.plot(loss_lst_plot_mom)\n",
        "plt.title(\"Momentum\")\n",
        "plt.show()"
      ],
      "metadata": {
        "id": "WuP9MwCuGUbm"
      },
      "execution_count": null,
      "outputs": []
    },
    {
      "cell_type": "markdown",
      "source": [
        "## 2c) RMSprop"
      ],
      "metadata": {
        "id": "JLEMjLsrGvL-"
      }
    },
    {
      "cell_type": "code",
      "source": [
        "epochs=15\n",
        "cross_entropy_loss = nn.CrossEntropyLoss()\n",
        "net = Net()\n",
        "rms_optimizer = optim.RMSprop(net.parameters(), lr=0.001,alpha=0.9)\n",
        "loss_lst_plot_rms=[]\n",
        "for _ in range(epochs):\n",
        "  loss_lst=[]\n",
        "  for shuffle_ind in range(10):\n",
        "    random.shuffle(data[shuffle_ind])\n",
        "  for ind1 in range(10):\n",
        "   \n",
        "    rms_optimizer.zero_grad()\n",
        "    for ind2 in range (100):\n",
        "      img=data[ind1][ind2].reshape(1,1,28,28)\n",
        "      out=net(img)\n",
        "      enc_target=one_hot_encode(ind1).float().reshape(1,10)    \n",
        "      cross_loss = cross_entropy_loss(out, enc_target)\n",
        "      \n",
        "      cross_loss.backward()\n",
        "      \n",
        "      loss_lst.append(cross_loss.item())\n",
        "    rms_optimizer.step()\n",
        "  loss=sum(loss_lst)/len(loss_lst)\n",
        "  loss_lst_plot_rms.append(loss)\n",
        "  print(loss)"
      ],
      "metadata": {
        "id": "4A28ZYe8D4a4"
      },
      "execution_count": null,
      "outputs": []
    },
    {
      "cell_type": "code",
      "source": [
        "plt.plot(loss_lst_plot_rms)\n",
        "plt.title(\"RMSProp\")\n",
        "plt.show()"
      ],
      "metadata": {
        "id": "4rfCxeA6E3XJ"
      },
      "execution_count": null,
      "outputs": []
    },
    {
      "cell_type": "code",
      "source": [
        "class Net_1(nn.Module):\n",
        "    def __init__(self):\n",
        "        super().__init__()\n",
        "        self.conv1 = nn.Conv2d(1,4,5, padding=2, stride=1)\n",
        "        self.pool1 = nn.MaxPool2d(2, 2)\n",
        "        self.conv2 = nn.Conv2d(4,4,5, padding=2, stride=1)\n",
        "        self.pool2 = nn.MaxPool2d(2, 2)\n",
        "        self.fc1 = nn.Linear(196, 49)\n",
        "        self.fc2 = nn.Linear(49,10)\n",
        "\n",
        "    def forward(self, x):\n",
        "        x_act1 = F.relu(self.conv1(x))\n",
        "        x = self.pool1(x_act1)\n",
        "        x_act2 = F.relu(self.conv2(x))\n",
        "        x = self.pool2(x_act2)\n",
        "        x_flat = torch.flatten(x, 1)\n",
        "        x = F.relu(self.fc1(x_flat))\n",
        "        x = F.relu(self.fc2(x))\n",
        "        return x,x_act1,x_act2,x_flat"
      ],
      "metadata": {
        "id": "--onfGEjvDPX"
      },
      "execution_count": null,
      "outputs": []
    },
    {
      "cell_type": "markdown",
      "source": [
        "# Q 3"
      ],
      "metadata": {
        "id": "QXok9xC-MMw5"
      }
    },
    {
      "cell_type": "markdown",
      "source": [
        "## 3a) Train and Test error"
      ],
      "metadata": {
        "id": "sv3RIX2A5V2w"
      }
    },
    {
      "cell_type": "code",
      "source": [
        "epochs=100\n",
        "ee=1\n",
        "cross_entropy_loss = nn.CrossEntropyLoss()\n",
        "net = Net_1()\n",
        "rms_optimizer = optim.RMSprop(net.parameters(), lr=0.001,alpha=0.9)\n",
        "loss_lst_plot_rms=[]\n",
        "test_loss_plot=[]\n",
        "train_error=[]\n",
        "test_error=[]\n",
        "act_1=[]\n",
        "act_2=[]\n",
        "flat=[]\n",
        "for _ in range(epochs):\n",
        "  loss_lst=[]\n",
        "  test_loss_lst=[]\n",
        "\n",
        "  for ind1 in range(10):\n",
        "    net.zero_grad()\n",
        "    y_pred=[]\n",
        "    \n",
        "    img=torch.cat(data[ind1],dim=0)\n",
        "    out,t1,t2,t3=net(img)\n",
        "    act_1.append(t1)\n",
        "    act_2.append(t2)\n",
        "    flat.append(t3)\n",
        "    enc_target=one_hot_encode(ind1).float().reshape(1,10).tolist()\n",
        "    enc_arr=[ind1]*100    \n",
        "    cross_loss = cross_entropy_loss(out, torch.tensor(enc_arr))\n",
        "    cross_loss.backward()\n",
        "    loss_lst.append(cross_loss.item())\n",
        "    rms_optimizer.step()\n",
        "    for i in range(100):\n",
        "      if out[i].argmax()== ind1:\n",
        "        y_pred.append(True)\n",
        "      else:\n",
        "        y_pred.append(False)\n",
        "  y_true=[True]*100\n",
        "  loss=sum(loss_lst)/len(loss_lst)\n",
        "  loss_lst_plot_rms.append(loss)\n",
        "  acc_lst=[]\n",
        "  acc_lst_train=[]\n",
        "  \n",
        "  print(\"Training loss\",loss)\n",
        "\n",
        "  acc_lst_train.append(sklearn.metrics.accuracy_score(y_pred,y_true))\n",
        "  acc_train=sum(acc_lst_train)/len(acc_lst_train)\n",
        "\n",
        "  for ind1 in range(10):\n",
        "\n",
        "    img=torch.cat(test[ind1],dim=0)\n",
        "    out,_,_,_=net(img)\n",
        "    enc_target=one_hot_encode(ind1).float().reshape(1,10)\n",
        "    enc_arr=[ind1]*10    \n",
        "    cross_loss = cross_entropy_loss(out,torch.tensor( enc_arr))\n",
        "    y_pred=[]\n",
        "    test_loss_lst.append(cross_loss.item())\n",
        "    for i in range(10):\n",
        "      if out[i].argmax()== ind1:\n",
        "        y_pred.append(True)\n",
        "      else:\n",
        "        y_pred.append(False)\n",
        "    y_true=[True]*10\n",
        "\n",
        "    acc_lst.append(sklearn.metrics.accuracy_score(y_pred,y_true))\n",
        "  loss=sum(test_loss_lst)/len(test_loss_lst)\n",
        "  acc=sum(acc_lst)/len(acc_lst)\n",
        "  test_loss_plot.append(loss)\n",
        "  train_error.append(1-acc_train)\n",
        "  test_error.append(1-acc)\n",
        "  print(\"Epoch\",ee)\n",
        "  ee+=1\n",
        "  print(\"Test loss\",loss)\n",
        "  print(\"Training Accuracy is\",acc_train)\n",
        "  print(\"Testing Accuracy is \",acc)\n",
        "  print(\"_________________________\")"
      ],
      "metadata": {
        "id": "VFWUfZYOhK0c"
      },
      "execution_count": null,
      "outputs": []
    },
    {
      "cell_type": "code",
      "source": [
        "plt.plot(loss_lst_plot_rms,label='train_loss')\n",
        "plt.plot(test_loss_plot,label='test_loss')\n",
        "plt.title(\"RMSProp\")\n",
        "plt.legend()\n",
        "plt.show()"
      ],
      "metadata": {
        "id": "6Ep5KCAc5JFs"
      },
      "execution_count": null,
      "outputs": []
    },
    {
      "cell_type": "code",
      "source": [
        "plt.plot(train_error,label=\"train\")\n",
        "plt.plot(test_error,label=\"test\")\n",
        "plt.title(\"Test_error vs Train_error\")\n",
        "plt.legend()\n",
        "plt.show()"
      ],
      "metadata": {
        "id": "b-kiTD89uZv3"
      },
      "execution_count": null,
      "outputs": []
    },
    {
      "cell_type": "markdown",
      "source": [
        "## 3b) Visualizing activation maps"
      ],
      "metadata": {
        "id": "Pc6sVkmx4smh"
      }
    },
    {
      "cell_type": "code",
      "source": [
        "plt.figure(figsize=(20,10))\n",
        "for i in range(15):\n",
        "  ind=random.randint(0,14)\n",
        "  plt.subplot(1,15,i+1)\n",
        "  plt.imshow(act_1[ind][1][1].detach().numpy())\n",
        "plt.show()"
      ],
      "metadata": {
        "id": "s5UwrBgw1oz9"
      },
      "execution_count": null,
      "outputs": []
    },
    {
      "cell_type": "markdown",
      "source": [
        "## 3c) Final Accuracy"
      ],
      "metadata": {
        "id": "fhhu69e85Sei"
      }
    },
    {
      "cell_type": "code",
      "source": [
        "print(\"The final accuracy of the model is \",acc*100)"
      ],
      "metadata": {
        "id": "7t_ILbNp3tq0"
      },
      "execution_count": null,
      "outputs": []
    },
    {
      "cell_type": "markdown",
      "source": [
        "# (4) TSNE plots"
      ],
      "metadata": {
        "id": "ecbRmzFE7b2U"
      }
    },
    {
      "cell_type": "code",
      "source": [
        "len(flat)"
      ],
      "metadata": {
        "id": "SWrkIRP48HOS"
      },
      "execution_count": null,
      "outputs": []
    },
    {
      "cell_type": "code",
      "source": [
        "from sklearn.manifold import TSNE\n",
        "X=TSNE(n_components=2,perplexity=20,init='random').fit_transform(flat[0].detach().numpy())\n"
      ],
      "metadata": {
        "id": "Gp_eYt9f65lm"
      },
      "execution_count": null,
      "outputs": []
    },
    {
      "cell_type": "code",
      "source": [
        "for i in range(len(X)):\n",
        "  plt.scatter(X[i][0],X[i][1])\n",
        "plt.show()"
      ],
      "metadata": {
        "id": "khoUjbqh65i7"
      },
      "execution_count": null,
      "outputs": []
    },
    {
      "cell_type": "markdown",
      "source": [
        "TSNE plot for first epoch\n"
      ],
      "metadata": {
        "id": "6P7Xx2qO8ive"
      }
    },
    {
      "cell_type": "code",
      "source": [
        "X=TSNE(n_components=2,perplexity=20,init='random').fit_transform(flat[999].detach().numpy())\n",
        "for i in range(len(X)):\n",
        "  plt.scatter(X[i][0],X[i][1])\n",
        "plt.show()"
      ],
      "metadata": {
        "id": "UYD0BzA965R6"
      },
      "execution_count": null,
      "outputs": []
    },
    {
      "cell_type": "markdown",
      "source": [
        "TSNE plot for last epoch\n"
      ],
      "metadata": {
        "id": "-Ph-AlWH8ghO"
      }
    },
    {
      "cell_type": "markdown",
      "source": [
        "# (6) Dropout"
      ],
      "metadata": {
        "id": "yAOy5Ngo_4S6"
      }
    },
    {
      "cell_type": "code",
      "source": [
        "class Net_2(nn.Module):\n",
        "    def __init__(self,drop):\n",
        "        super().__init__()\n",
        "        self.conv1 = nn.Conv2d(1,4,5, padding=2, stride=1)\n",
        "        self.pool1 = nn.MaxPool2d(2, 2)\n",
        "        self.conv2 = nn.Conv2d(4,4,5, padding=2, stride=1)\n",
        "        self.pool2 = nn.MaxPool2d(2, 2)\n",
        "        self.fc1 = nn.Linear(196, 49)\n",
        "        self.fc2 = nn.Linear(49,10)\n",
        "        self.dropout = nn.Dropout(drop)\n",
        "\n",
        "    def forward(self, x):\n",
        "        x_act1 = F.relu(self.conv1(x))\n",
        "        x = self.pool1(x_act1)\n",
        "        x_act2 = F.relu(self.conv2(x))\n",
        "        x = self.pool2(x_act2)\n",
        "        x_flat = torch.flatten(x, 1)\n",
        "        x = F.relu(self.fc1(x_flat))\n",
        "        x = self.dropout(x)\n",
        "        x = F.relu(self.fc2(x))\n",
        "      \n",
        "        return x,x_act1,x_act2,x_flat"
      ],
      "metadata": {
        "id": "3ZxCv4au8_jb"
      },
      "execution_count": null,
      "outputs": []
    },
    {
      "cell_type": "code",
      "source": [
        "epochs=45\n",
        "cross_entropy_loss = nn.CrossEntropyLoss()\n",
        "drop=[0.2,0.5,0.8]\n",
        "for d in drop:\n",
        "  print(\"for Dropout = \",d)\n",
        "  net = Net_2(d)\n",
        "  rms_optimizer = optim.RMSprop(net.parameters(), lr=0.001,alpha=0.9)\n",
        "  loss_lst_plot_rms=[]\n",
        "  test_loss_plot=[]\n",
        "  train_error=[]\n",
        "  test_error=[]\n",
        "  act_1=[]\n",
        "  act_2=[]\n",
        "  flat=[]\n",
        "  for _ in range(epochs):\n",
        "    loss_lst=[]\n",
        "    test_loss_lst=[]\n",
        "    for ind1 in range(10):\n",
        "      net.zero_grad()\n",
        "      y_pred=[]\n",
        "      \n",
        "      img=torch.cat(data[ind1],dim=0)\n",
        "      out,t1,t2,t3=net(img)\n",
        "      act_1.append(t1)\n",
        "      act_2.append(t2)\n",
        "      flat.append(t3)\n",
        "      enc_arr=[ind1]*100    \n",
        "      cross_loss = cross_entropy_loss(out, torch.tensor(enc_arr))\n",
        "      cross_loss.backward()\n",
        "      loss_lst.append(cross_loss.item())\n",
        "      rms_optimizer.step()\n",
        "      for i in range(100):\n",
        "        if out[i].argmax()== ind1:\n",
        "          y_pred.append(True)\n",
        "        else:\n",
        "          y_pred.append(False)\n",
        "    y_true=[True]*100\n",
        "    loss=sum(loss_lst)/len(loss_lst)\n",
        "    loss_lst_plot_rms.append(loss)\n",
        "    acc_lst=[]\n",
        "    acc_lst_train=[]\n",
        "\n",
        "    acc_lst_train.append(sklearn.metrics.accuracy_score(y_pred,y_true))\n",
        "    acc_train=sum(acc_lst_train)/len(acc_lst_train)\n",
        "\n",
        "    for ind1 in range(10):\n",
        "\n",
        "      img=torch.cat(test[ind1],dim=0)\n",
        "      out,_,_,_=net(img)\n",
        "      enc_arr=[ind1]*10    \n",
        "      cross_loss = cross_entropy_loss(out,torch.tensor( enc_arr))\n",
        "      y_pred=[]\n",
        "      test_loss_lst.append(cross_loss.item())\n",
        "      for i in range(10):\n",
        "        if out[i].argmax()== ind1:\n",
        "          y_pred.append(True)\n",
        "        else:\n",
        "          y_pred.append(False)\n",
        "      y_true=[True]*10\n",
        "\n",
        "      acc_lst.append(sklearn.metrics.accuracy_score(y_pred,y_true))\n",
        "    loss=sum(test_loss_lst)/len(test_loss_lst)\n",
        "    acc=sum(acc_lst)/len(acc_lst)\n",
        "    test_loss_plot.append(loss)\n",
        "    train_error.append(1-acc_train)\n",
        "    test_error.append(1-acc)\n",
        "  print(\"Training Accuracy is\",acc_train)\n",
        "  print(\"Testing Accuracy is \",acc)\n",
        "  print(\"___________________________\")"
      ],
      "metadata": {
        "id": "B6PuvNWQAxcu"
      },
      "execution_count": null,
      "outputs": []
    },
    {
      "cell_type": "markdown",
      "source": [
        "# (7)Batch Norm"
      ],
      "metadata": {
        "id": "2d8GejldEe0e"
      }
    },
    {
      "cell_type": "code",
      "source": [
        "class Net_3(nn.Module):\n",
        "    def __init__(self,drop):\n",
        "        super().__init__()\n",
        "        self.conv1 = nn.Conv2d(1,4,5, padding=2, stride=1)\n",
        "        self.pool1 = nn.MaxPool2d(2, 2)\n",
        "        self.conv2 = nn.Conv2d(4,4,5, padding=2, stride=1)\n",
        "        self.pool2 = nn.MaxPool2d(2, 2)\n",
        "        self.fc1 = nn.Linear(196, 49)\n",
        "        self.fc2 = nn.Linear(49,10)\n",
        "        self.dropout = nn.Dropout(drop)\n",
        "        self.batch = nn.BatchNorm1d(49)\n",
        "\n",
        "    def forward(self, x):\n",
        "        x_act1 = F.relu(self.conv1(x))\n",
        "        x = self.pool1(x_act1)\n",
        "        x_act2 = F.relu(self.conv2(x))\n",
        "        x = self.pool2(x_act2)\n",
        "        x_flat = torch.flatten(x, 1)\n",
        "        x = F.relu(self.fc1(x_flat))\n",
        "        x = self.dropout(x)\n",
        "        x = self.batch()\n",
        "        x = F.relu(self.fc2(x))\n",
        "        \n",
        "        return x,x_act1,x_act2,x_flat"
      ],
      "metadata": {
        "id": "8HJ_IBJ6CwnG"
      },
      "execution_count": null,
      "outputs": []
    },
    {
      "cell_type": "code",
      "source": [
        "epochs=100\n",
        "cross_entropy_loss = nn.CrossEntropyLoss()\n",
        "drop=[0.2,0.5,0.8]\n",
        "print(\"Batch Normalization and dropout\")\n",
        "for d in drop:\n",
        "  print(\"for Dropout \",d)\n",
        "  net = Net_2(d)\n",
        "  rms_optimizer = optim.RMSprop(net.parameters(), lr=0.001,alpha=0.9)\n",
        "  loss_lst_plot_rms=[]\n",
        "  test_loss_plot=[]\n",
        "  train_error=[]\n",
        "  test_error=[]\n",
        "  act_1=[]\n",
        "  act_2=[]\n",
        "  flat=[]\n",
        "  for _ in range(epochs):\n",
        "    loss_lst=[]\n",
        "    test_loss_lst=[]\n",
        "    for ind1 in range(10):\n",
        "      net.zero_grad()\n",
        "      y_pred=[]\n",
        "      \n",
        "      img=torch.cat(data[ind1],dim=0)\n",
        "      out,t1,t2,t3=net(img)\n",
        "      act_1.append(t1)\n",
        "      act_2.append(t2)\n",
        "      flat.append(t3)\n",
        "      enc_arr=[ind1]*100    \n",
        "      cross_loss = cross_entropy_loss(out, torch.tensor(enc_arr))\n",
        "      cross_loss.backward()\n",
        "      loss_lst.append(cross_loss.item())\n",
        "      rms_optimizer.step()\n",
        "      for i in range(100):\n",
        "        if out[i].argmax()== ind1:\n",
        "          y_pred.append(True)\n",
        "        else:\n",
        "          y_pred.append(False)\n",
        "    y_true=[True]*100\n",
        "    loss=sum(loss_lst)/len(loss_lst)\n",
        "    loss_lst_plot_rms.append(loss)\n",
        "    acc_lst=[]\n",
        "    acc_lst_train=[]\n",
        "    acc_lst_train.append(sklearn.metrics.accuracy_score(y_pred,y_true))\n",
        "    acc_train=sum(acc_lst_train)/len(acc_lst_train)\n",
        "    \n",
        "    for ind1 in range(10):\n",
        "\n",
        "      img=torch.cat(test[ind1],dim=0)\n",
        "      out,_,_,_=net(img)\n",
        "      enc_arr=[ind1]*10    \n",
        "      cross_loss = cross_entropy_loss(out,torch.tensor( enc_arr))\n",
        "      y_pred=[]\n",
        "      test_loss_lst.append(cross_loss.item())\n",
        "      for i in range(10):\n",
        "        if out[i].argmax()== ind1:\n",
        "          y_pred.append(True)\n",
        "        else:\n",
        "          y_pred.append(False)\n",
        "      y_true=[True]*10\n",
        "\n",
        "      acc_lst.append(sklearn.metrics.accuracy_score(y_pred,y_true))\n",
        "    loss=sum(test_loss_lst)/len(test_loss_lst)\n",
        "    acc=sum(acc_lst)/len(acc_lst)\n",
        "    test_loss_plot.append(loss)\n",
        "    train_error.append(1-acc_train)\n",
        "    test_error.append(1-acc)\n",
        "\n",
        "  print(\"Training Accuracy is\",acc_train)\n",
        "  print(\"Testing Accuracy is \",acc)"
      ],
      "metadata": {
        "id": "5JwDFvUjE5A6"
      },
      "execution_count": null,
      "outputs": []
    }
  ]
}